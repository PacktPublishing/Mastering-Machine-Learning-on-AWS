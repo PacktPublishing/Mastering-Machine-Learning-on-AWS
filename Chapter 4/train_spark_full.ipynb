{
 "cells": [
  {
   "cell_type": "code",
   "execution_count": null,
   "metadata": {},
   "outputs": [],
   "source": [
    "# download training data from https://www.kaggle.com/c/avazu-ctr-prediction/data\n",
    " \n",
    "# upload the data to s3\n",
    "# !aws s3 cp --profile ml_user ~/SageMaker/mastering-ml-on-aws/chapter4/train.gz s3://mastering-ml-aws/chater4/data/train.gz"
   ]
  },
  {
   "cell_type": "code",
   "execution_count": 1,
   "metadata": {
    "trusted": true
   },
   "outputs": [
    {
     "data": {
      "text/plain": [
       "VBox()"
      ]
     },
     "metadata": {},
     "output_type": "display_data"
    },
    {
     "name": "stdout",
     "output_type": "stream",
     "text": [
      "Starting Spark application\n"
     ]
    },
    {
     "data": {
      "text/html": [
       "<table>\n<tr><th>ID</th><th>YARN Application ID</th><th>Kind</th><th>State</th><th>Spark UI</th><th>Driver log</th><th>Current session?</th></tr><tr><td>0</td><td>application_1548514458454_0001</td><td>pyspark</td><td>idle</td><td></td><td></td><td>✔</td></tr></table>"
      ],
      "text/plain": [
       "<IPython.core.display.HTML object>"
      ]
     },
     "metadata": {},
     "output_type": "execute_result"
    },
    {
     "name": "stdout",
     "output_type": "stream",
     "text": [
      "SparkSession available as 'spark'.\n"
     ]
    }
   ],
   "source": [
    "s3_train_path = 's3://mastering-ml-aws/chapter4/data/train.gz'"
   ]
  },
  {
   "cell_type": "code",
   "execution_count": 4,
   "metadata": {
    "trusted": true
   },
   "outputs": [
    {
     "data": {
      "text/plain": [
       "VBox()"
      ]
     },
     "metadata": {},
     "output_type": "display_data"
    }
   ],
   "source": [
    "ctr_df = spark.read.csv(s3_train_path, header=True, inferSchema=True)"
   ]
  },
  {
   "cell_type": "code",
   "execution_count": 9,
   "metadata": {
    "trusted": true
   },
   "outputs": [
    {
     "data": {
      "text/plain": [
       "VBox()"
      ]
     },
     "metadata": {},
     "output_type": "display_data"
    }
   ],
   "source": [
    "ctr_df = ctr_df.repartition(100).cache()"
   ]
  },
  {
   "cell_type": "code",
   "execution_count": 15,
   "metadata": {
    "trusted": true
   },
   "outputs": [
    {
     "data": {
      "text/plain": [
       "VBox()"
      ]
     },
     "metadata": {},
     "output_type": "display_data"
    }
   ],
   "source": [
    "ctr_df.write.parquet('s3://mastering-ml-aws/chapter4/parquet/')"
   ]
  },
  {
   "cell_type": "code",
   "execution_count": 6,
   "metadata": {
    "trusted": true
   },
   "outputs": [
    {
     "data": {
      "text/plain": [
       "VBox()"
      ]
     },
     "metadata": {},
     "output_type": "display_data"
    }
   ],
   "source": [
    "summary_df = ctr_df.describe()"
   ]
  },
  {
   "cell_type": "code",
   "execution_count": 7,
   "metadata": {
    "trusted": true
   },
   "outputs": [
    {
     "data": {
      "text/plain": [
       "VBox()"
      ]
     },
     "metadata": {},
     "output_type": "display_data"
    },
    {
     "name": "stdout",
     "output_type": "stream",
     "text": [
      "+-------+--------------------+-------------------+--------------------+------------------+-------------------+--------+-----------+-------------+--------+----------+------------+---------+---------+------------+------------------+------------------+------------------+-----------------+------------------+------------------+------------------+------------------+------------------+-----------------+\n|summary|                  id|              click|                hour|                C1|         banner_pos| site_id|site_domain|site_category|  app_id|app_domain|app_category|device_id|device_ip|device_model|       device_type|  device_conn_type|               C14|              C15|               C16|               C17|               C18|               C19|               C20|              C21|\n+-------+--------------------+-------------------+--------------------+------------------+-------------------+--------+-----------+-------------+--------+----------+------------+---------+---------+------------+------------------+------------------+------------------+-----------------+------------------+------------------+------------------+------------------+------------------+-----------------+\n|  count|            40428967|           40428967|            40428967|          40428967|           40428967|40428967|   40428967|     40428967|40428967|  40428967|    40428967| 40428967| 40428967|    40428967|          40428967|          40428967|          40428967|         40428967|          40428967|          40428967|          40428967|          40428967|          40428967|         40428967|\n|   mean|92230171098307446...|0.16980562476404604|1.4102558253985614E7|1004.9678337069557|0.28801463069783606|Infinity|   Infinity|     Infinity|Infinity|  Infinity|        null| Infinity| Infinity|    Infinity|1.0153052389391992| 0.331315019748093|18841.805450656208|318.8831170482293|60.102009482458456|2112.6011881777736| 1.432499252330637|227.14437826224943|53216.848336416806|83.38228753161069|\n| stddev|5.325443366632440...| 0.3754619528653104|   296.6837231307798|1.0945860540416708| 0.5063820297098325|     NaN|        NaN|          NaN|     NaN|       NaN|        null|      NaN|      NaN|         NaN|0.5274335995759276|0.8547935323165325| 4959.456696158617|21.27250135365863| 47.29538176616874| 609.4123967701748|1.3262268515725704|351.02212828864697| 49956.81541555234|70.28996240438845|\n|    min|        521159373627|                  0|            14102100|              1001|                  0|000aa1a4|   000129ff|     0569f928|000d6291|  001b87ae|    07d7df22| 00000414| 0000016d|    00097428|                 0|                 0|               375|              120|                20|               112|                 0|                33|                -1|                1|\n|    max|18446743972517787388|                  1|            14103023|              1012|                  7|fffe8e1c|   fff602a2|     f66779e6|fff4213a|  ff6630e0|    fc6fa53d| ffffe5da| fffffaa3|    fffc15b0|                 5|                 5|             24052|             1024|              1024|              2758|                 3|              1959|            100248|              255|\n+-------+--------------------+-------------------+--------------------+------------------+-------------------+--------+-----------+-------------+--------+----------+------------+---------+---------+------------+------------------+------------------+------------------+-----------------+------------------+------------------+------------------+------------------+------------------+-----------------+"
     ]
    }
   ],
   "source": [
    "summary_df.show()"
   ]
  },
  {
   "cell_type": "code",
   "execution_count": 1,
   "metadata": {
    "trusted": true
   },
   "outputs": [
    {
     "data": {
      "text/plain": [
       "VBox()"
      ]
     },
     "metadata": {},
     "output_type": "display_data"
    },
    {
     "name": "stdout",
     "output_type": "stream",
     "text": [
      "Starting Spark application\n"
     ]
    },
    {
     "data": {
      "text/html": [
       "<table>\n<tr><th>ID</th><th>YARN Application ID</th><th>Kind</th><th>State</th><th>Spark UI</th><th>Driver log</th><th>Current session?</th></tr><tr><td>0</td><td>application_1549485056937_0001</td><td>pyspark</td><td>idle</td><td><a target=\"_blank\" href=\"http://ip-172-31-88-224.ec2.internal:20888/proxy/application_1549485056937_0001/\">Link</a></td><td><a target=\"_blank\" href=\"http://ip-172-31-91-106.ec2.internal:8042/node/containerlogs/container_1549485056937_0001_01_000001/livy\">Link</a></td><td>✔</td></tr></table>"
      ],
      "text/plain": [
       "<IPython.core.display.HTML object>"
      ]
     },
     "metadata": {},
     "output_type": "execute_result"
    },
    {
     "name": "stdout",
     "output_type": "stream",
     "text": [
      "SparkSession available as 'spark'.\n"
     ]
    }
   ],
   "source": [
    "ctr_df = spark.read.parquet('s3://mastering-ml-aws/chapter4/parquet/')"
   ]
  },
  {
   "cell_type": "code",
   "execution_count": 2,
   "metadata": {
    "trusted": true
   },
   "outputs": [
    {
     "data": {
      "text/plain": [
       "VBox()"
      ]
     },
     "metadata": {},
     "output_type": "display_data"
    }
   ],
   "source": [
    "from pyspark.ml.feature import OneHotEncoder\n",
    "from pyspark.ml.feature import StringIndexer\n",
    "from pyspark.ml.feature import ChiSqSelector\n",
    "\n",
    "def categorical_one_hot_encoding_stages(columns):\n",
    "    indexers = [StringIndexer(inputCol=column, outputCol=column + \"_index\", handleInvalid='keep') for column in columns]\n",
    "    encoders = [OneHotEncoder(inputCol=column + \"_index\", outputCol=column + \"_encoded\") for column in columns]\n",
    "    return indexers + encoders\n",
    "\n",
    "def categorical_encoding_stages(columns):\n",
    "    return [StringIndexer(inputCol=column, outputCol=column + \"_encoded\", handleInvalid='keep') for column in columns]\n",
    "\n",
    "from pyspark.ml import Pipeline\n",
    "from pyspark.ml.feature import VectorAssembler\n",
    "from pyspark.ml.classification import DecisionTreeClassifier\n",
    "\n",
    "categorical_columns = ['C1', 'C14', 'C15', 'C16', 'C17', 'C18', 'C19', 'C20', 'C21', 'site_id', 'site_domain',\n",
    "                       'site_category', 'app_id', 'app_domain',\n",
    "                       'app_category']  #, 'device_id', 'device_ip', 'device_model']\n",
    "numerical_columns = ['banner_pos', 'device_type', 'device_conn_type']\n",
    "encoded_columns = [column + '_encoded' for column in categorical_columns] + numerical_columns\n",
    "\n",
    "categorical_stages = categorical_one_hot_encoding_stages(categorical_columns)\n",
    "vector_assembler = VectorAssembler(inputCols=encoded_columns, outputCol=\"features\")\n",
    "selector = ChiSqSelector(numTopFeatures=100, featuresCol=\"features\",\n",
    "                         outputCol=\"selected_features\", labelCol=\"click\")\n",
    "decision_tree = DecisionTreeClassifier(labelCol=\"click\", featuresCol=\"selected_features\")\n",
    "\n",
    "encoding_pipeline = Pipeline(stages=categorical_stages + [vector_assembler, selector, decision_tree])\n"
   ]
  },
  {
   "cell_type": "code",
   "execution_count": 7,
   "metadata": {
    "trusted": true
   },
   "outputs": [
    {
     "data": {
      "text/plain": [
       "VBox()"
      ]
     },
     "metadata": {},
     "output_type": "display_data"
    }
   ],
   "source": [
    "train_df, test_df = ctr_df.randomSplit([0.8, 0.2], seed=17)\n"
   ]
  },
  {
   "cell_type": "code",
   "execution_count": 8,
   "metadata": {
    "trusted": true
   },
   "outputs": [
    {
     "data": {
      "text/plain": [
       "VBox()"
      ]
     },
     "metadata": {},
     "output_type": "display_data"
    }
   ],
   "source": [
    "train_df = train_df.repartition(200).cache()\n"
   ]
  },
  {
   "cell_type": "code",
   "execution_count": 9,
   "metadata": {
    "trusted": true
   },
   "outputs": [
    {
     "data": {
      "text/plain": [
       "VBox()"
      ]
     },
     "metadata": {},
     "output_type": "display_data"
    }
   ],
   "source": [
    "pipeline_model = encoding_pipeline.fit(train_df)\n"
   ]
  },
  {
   "cell_type": "code",
   "execution_count": 11,
   "metadata": {
    "trusted": true
   },
   "outputs": [
    {
     "data": {
      "text/plain": [
       "VBox()"
      ]
     },
     "metadata": {},
     "output_type": "display_data"
    }
   ],
   "source": [
    "train_transformed = pipeline_model.transform(train_df)\n",
    "train_transformed.write.parquet(\"s3://mastering-ml-aws/chapter4/chi-training-vector-sampled/\")\n"
   ]
  },
  {
   "cell_type": "code",
   "execution_count": 10,
   "metadata": {
    "trusted": true
   },
   "outputs": [
    {
     "data": {
      "text/plain": [
       "VBox()"
      ]
     },
     "metadata": {},
     "output_type": "display_data"
    }
   ],
   "source": [
    "pipeline_model.save(\"s3://mastering-ml-aws/chapter4/pipeline-sampled\")\n"
   ]
  },
  {
   "cell_type": "code",
   "execution_count": 12,
   "metadata": {
    "trusted": true
   },
   "outputs": [
    {
     "data": {
      "text/plain": [
       "VBox()"
      ]
     },
     "metadata": {},
     "output_type": "display_data"
    }
   ],
   "source": [
    "test_transformed = pipeline_model.transform(test_df)\n",
    "test_transformed.write.parquet(\"s3://mastering-ml-aws/chapter4/chi-test-vector-sampled/\")\n"
   ]
  },
  {
   "cell_type": "code",
   "execution_count": 14,
   "metadata": {
    "trusted": true
   },
   "outputs": [
    {
     "data": {
      "text/plain": [
       "VBox()"
      ]
     },
     "metadata": {},
     "output_type": "display_data"
    },
    {
     "name": "stdout",
     "output_type": "stream",
     "text": [
      "0.49268198159721616"
     ]
    }
   ],
   "source": [
    "from pyspark.ml.evaluation import BinaryClassificationEvaluator\n",
    "\n",
    "evaluator = BinaryClassificationEvaluator(rawPredictionCol=\"rawPrediction\", labelCol=\"click\")\n",
    "evaluator.evaluate(pipeline_model.transform(test_df, {evaluator.metricName: \"areaUnderROC\"}))\n"
   ]
  },
  {
   "cell_type": "code",
   "execution_count": 18,
   "metadata": {
    "trusted": true
   },
   "outputs": [
    {
     "data": {
      "text/plain": [
       "VBox()"
      ]
     },
     "metadata": {},
     "output_type": "display_data"
    }
   ],
   "source": [
    "train_transformed = pipeline_model.transform(train_df)\n"
   ]
  },
  {
   "cell_type": "code",
   "execution_count": 19,
   "metadata": {
    "trusted": true
   },
   "outputs": [
    {
     "data": {
      "text/plain": [
       "VBox()"
      ]
     },
     "metadata": {},
     "output_type": "display_data"
    }
   ],
   "source": [
    "train_transformed.select([\"click\"] + encoded_columns).write.csv('s3://mastering-ml-aws/chapter4/training-vector/')\n"
   ]
  },
  {
   "cell_type": "code",
   "execution_count": 20,
   "metadata": {
    "trusted": true
   },
   "outputs": [
    {
     "data": {
      "text/plain": [
       "VBox()"
      ]
     },
     "metadata": {},
     "output_type": "display_data"
    }
   ],
   "source": [
    "test_transformed = pipeline_model.transform(test_df)\n",
    "test_transformed.select([\"click\"] + encoded_columns).repartition(5).write.csv(\n",
    "    's3://mastering-ml-aws/chapter4/test-vector/')\n"
   ]
  },
  {
   "cell_type": "code",
   "execution_count": 1,
   "metadata": {
    "trusted": true
   },
   "outputs": [
    {
     "data": {
      "text/plain": [
       "VBox()"
      ]
     },
     "metadata": {},
     "output_type": "display_data"
    },
    {
     "name": "stdout",
     "output_type": "stream",
     "text": [
      "Starting Spark application\n"
     ]
    },
    {
     "data": {
      "text/html": [
       "<table>\n<tr><th>ID</th><th>YARN Application ID</th><th>Kind</th><th>State</th><th>Spark UI</th><th>Driver log</th><th>Current session?</th></tr><tr><td>0</td><td>application_1549632706913_0005</td><td>pyspark</td><td>idle</td><td><a target=\"_blank\" href=\"http://ip-172-31-95-187.ec2.internal:20888/proxy/application_1549632706913_0005/\">Link</a></td><td><a target=\"_blank\" href=\"http://ip-172-31-85-201.ec2.internal:8042/node/containerlogs/container_1549632706913_0005_01_000001/livy\">Link</a></td><td>✔</td></tr></table>"
      ],
      "text/plain": [
       "<IPython.core.display.HTML object>"
      ]
     },
     "metadata": {},
     "output_type": "execute_result"
    },
    {
     "name": "stdout",
     "output_type": "stream",
     "text": [
      "SparkSession available as 'spark'.\n"
     ]
    }
   ],
   "source": [
    "training_df_with_features = spark.read.parquet('s3://mastering-ml-aws/chapter4/chi-training-vector-sampled/')\n",
    "\n"
   ]
  },
  {
   "cell_type": "code",
   "execution_count": 5,
   "metadata": {
    "trusted": true
   },
   "outputs": [
    {
     "data": {
      "text/plain": [
       "VBox()"
      ]
     },
     "metadata": {},
     "output_type": "display_data"
    },
    {
     "name": "stdout",
     "output_type": "stream",
     "text": [
      "+-----+-----------------+\n|click|selected_features|\n+-----+-----------------+\n|    0|      (100,[],[])|\n|    0| (100,[13],[1.0])|\n|    1| (100,[82],[1.0])|\n|    1| (100,[18],[1.0])|\n|    0|  (100,[4],[1.0])|\n+-----+-----------------+\nonly showing top 5 rows"
     ]
    }
   ],
   "source": [
    "training_df_with_features.select(\"click\", \"selected_features\").show(5)\n"
   ]
  },
  {
   "cell_type": "code",
   "execution_count": 9,
   "metadata": {
    "trusted": true
   },
   "outputs": [
    {
     "data": {
      "text/plain": [
       "VBox()"
      ]
     },
     "metadata": {},
     "output_type": "display_data"
    },
    {
     "name": "stdout",
     "output_type": "stream",
     "text": [
      "+-----+-----------------+\n|click|selected_features|\n+-----+-----------------+\n|    0|      (100,[],[])|\n|    0| (100,[13],[1.0])|\n|    1| (100,[82],[1.0])|\n|    1| (100,[18],[1.0])|\n|    0|  (100,[4],[1.0])|\n+-----+-----------------+\nonly showing top 5 rows"
     ]
    }
   ],
   "source": [
    "training_df_with_features.select(\"click\", \"selected_features\").show(5)\n"
   ]
  },
  {
   "cell_type": "code",
   "execution_count": 36,
   "metadata": {
    "trusted": true
   },
   "outputs": [
    {
     "data": {
      "text/plain": [
       "VBox()"
      ]
     },
     "metadata": {},
     "output_type": "display_data"
    }
   ],
   "source": [
    "def deconstruct_vector(row):\n",
    "    arr = row['selected_features'].toArray()\n",
    "    return tuple([row['click']] + arr.tolist())\n",
    "\n",
    "df_for_csv = training_df_with_features.select(\"click\", \"selected_features\").rdd.map(deconstruct_vector).toDF()\n",
    "df_for_csv.write.csv('s3://mastering-ml-aws/chapter4/training-vector-csv/', header=False)\n"
   ]
  },
  {
   "cell_type": "code",
   "execution_count": 37,
   "metadata": {
    "trusted": true
   },
   "outputs": [
    {
     "data": {
      "text/plain": [
       "VBox()"
      ]
     },
     "metadata": {},
     "output_type": "display_data"
    }
   ],
   "source": [
    "test_df_with_features = spark.read.parquet('s3://mastering-ml-aws/chapter4/chi-test-vector-sampled/')\n",
    "df_for_csv = test_df_with_features.select(\"click\", \"selected_features\").rdd.map(deconstruct_vector).toDF()\n",
    "df_for_csv.write.csv('s3://mastering-ml-aws/chapter4/test-vector-csv/', header=False)\n"
   ]
  },
  {
   "cell_type": "code",
   "execution_count": 4,
   "metadata": {
    "trusted": true
   },
   "outputs": [
    {
     "data": {
      "text/plain": [
       "VBox()"
      ]
     },
     "metadata": {},
     "output_type": "display_data"
    }
   ],
   "source": [
    "def deconstruct_vector_no_label(row):\n",
    "    arr = row['selected_features'].toArray()\n",
    "    return tuple(arr.tolist())\n",
    "\n",
    "test_df_with_features = spark.read.parquet('s3://mastering-ml-aws/chapter4/chi-test-vector-sampled/')\n",
    "df_for_csv = test_df_with_features.select(\"selected_features\").rdd.map(deconstruct_vector_no_label).toDF().repartition(\n",
    "    100)\n",
    "df_for_csv.write.csv('s3://mastering-ml-aws/chapter4/test-vector-csv-no-label/', header=False)\n"
   ]
  }
 ],
 "metadata": {
  "kernelspec": {
   "name": "pysparkkernel",
   "display_name": "PySpark",
   "language": ""
  },
  "language_info": {
   "name": "pyspark",
   "mimetype": "text/x-python",
   "codemirror_mode": {
    "name": "python",
    "version": 2
   },
   "pygments_lexer": "python2"
  }
 },
 "nbformat": 4,
 "nbformat_minor": 2
}
