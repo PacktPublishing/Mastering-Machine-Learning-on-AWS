{
 "cells": [
  {
   "cell_type": "code",
   "execution_count": null,
   "metadata": {
    "trusted": true
   },
   "outputs": [
    {
     "data": {
      "text/plain": [
       "VBox()"
      ]
     },
     "metadata": {},
     "output_type": "display_data"
    }
   ],
   "source": [
    "DATA_S3_PATH = 's3://mastering-ml-aws/chapter5/data.csv'\n",
    "df = spark.read.csv(DATA_S3_PATH, header=True, inferSchema=True)\n"
   ]
  },
  {
   "cell_type": "code",
   "execution_count": 8,
   "metadata": {
    "trusted": true
   },
   "outputs": [
    {
     "data": {
      "text/plain": [
       "VBox()"
      ]
     },
     "metadata": {},
     "output_type": "display_data"
    },
    {
     "name": "stdout",
     "output_type": "stream",
     "text": [
      "+---------+---------+--------------------+--------+--------------+---------+----------+--------------+\n|InvoiceNo|StockCode|         Description|Quantity|   InvoiceDate|UnitPrice|CustomerID|       Country|\n+---------+---------+--------------------+--------+--------------+---------+----------+--------------+\n|   536365|   85123A|WHITE HANGING HEA...|       6|12/1/2010 8:26|     2.55|     17850|United Kingdom|\n|   536365|    71053| WHITE METAL LANTERN|       6|12/1/2010 8:26|     3.39|     17850|United Kingdom|\n|   536365|   84406B|CREAM CUPID HEART...|       8|12/1/2010 8:26|     2.75|     17850|United Kingdom|\n|   536365|   84029G|KNITTED UNION FLA...|       6|12/1/2010 8:26|     3.39|     17850|United Kingdom|\n|   536365|   84029E|RED WOOLLY HOTTIE...|       6|12/1/2010 8:26|     3.39|     17850|United Kingdom|\n+---------+---------+--------------------+--------+--------------+---------+----------+--------------+\nonly showing top 5 rows"
     ]
    }
   ],
   "source": [
    "df.show(5)"
   ]
  },
  {
   "cell_type": "code",
   "execution_count": 9,
   "metadata": {
    "trusted": true
   },
   "outputs": [
    {
     "data": {
      "text/plain": [
       "VBox()"
      ]
     },
     "metadata": {},
     "output_type": "display_data"
    }
   ],
   "source": [
    "df = df.selectExpr(\"*\",\"Quantity * UnitPrice as TotalBought\")"
   ]
  },
  {
   "cell_type": "code",
   "execution_count": 10,
   "metadata": {
    "trusted": true
   },
   "outputs": [
    {
     "data": {
      "text/plain": [
       "VBox()"
      ]
     },
     "metadata": {},
     "output_type": "display_data"
    },
    {
     "name": "stdout",
     "output_type": "stream",
     "text": [
      "+---------+---------+--------------------+--------+--------------+---------+----------+--------------+------------------+\n|InvoiceNo|StockCode|         Description|Quantity|   InvoiceDate|UnitPrice|CustomerID|       Country|       TotalBought|\n+---------+---------+--------------------+--------+--------------+---------+----------+--------------+------------------+\n|   536365|   85123A|WHITE HANGING HEA...|       6|12/1/2010 8:26|     2.55|     17850|United Kingdom|15.299999999999999|\n|   536365|    71053| WHITE METAL LANTERN|       6|12/1/2010 8:26|     3.39|     17850|United Kingdom|             20.34|\n|   536365|   84406B|CREAM CUPID HEART...|       8|12/1/2010 8:26|     2.75|     17850|United Kingdom|              22.0|\n|   536365|   84029G|KNITTED UNION FLA...|       6|12/1/2010 8:26|     3.39|     17850|United Kingdom|             20.34|\n|   536365|   84029E|RED WOOLLY HOTTIE...|       6|12/1/2010 8:26|     3.39|     17850|United Kingdom|             20.34|\n+---------+---------+--------------------+--------+--------------+---------+----------+--------------+------------------+\nonly showing top 5 rows"
     ]
    }
   ],
   "source": [
    "df.show(5)"
   ]
  },
  {
   "cell_type": "code",
   "execution_count": 11,
   "metadata": {
    "trusted": true
   },
   "outputs": [
    {
     "data": {
      "text/plain": [
       "VBox()"
      ]
     },
     "metadata": {},
     "output_type": "display_data"
    }
   ],
   "source": [
    "customer_df = df.select(\"CustomerID\",\"TotalBought\").groupBy(\"CustomerID\").sum(\"TotalBought\").withColumnRenamed('sum(TotalBought)','SumTotalBought')"
   ]
  },
  {
   "cell_type": "code",
   "execution_count": 12,
   "metadata": {
    "trusted": true
   },
   "outputs": [
    {
     "data": {
      "text/plain": [
       "VBox()"
      ]
     },
     "metadata": {},
     "output_type": "display_data"
    }
   ],
   "source": [
    "from pyspark.sql.functions import *\n",
    "\n",
    "joined_df = df.join(customer_df, 'CustomerId')"
   ]
  },
  {
   "cell_type": "code",
   "execution_count": 13,
   "metadata": {
    "trusted": true
   },
   "outputs": [
    {
     "data": {
      "text/plain": [
       "VBox()"
      ]
     },
     "metadata": {},
     "output_type": "display_data"
    },
    {
     "name": "stdout",
     "output_type": "stream",
     "text": [
      "+----------+---------+---------+--------------------+--------+--------------+---------+--------------+------------------+-----------------+\n|CustomerID|InvoiceNo|StockCode|         Description|Quantity|   InvoiceDate|UnitPrice|       Country|       TotalBought|   SumTotalBought|\n+----------+---------+---------+--------------------+--------+--------------+---------+--------------+------------------+-----------------+\n|     17850|   536365|   85123A|WHITE HANGING HEA...|       6|12/1/2010 8:26|     2.55|United Kingdom|15.299999999999999|5288.630000000009|\n|     17850|   536365|    71053| WHITE METAL LANTERN|       6|12/1/2010 8:26|     3.39|United Kingdom|             20.34|5288.630000000009|\n|     17850|   536365|   84406B|CREAM CUPID HEART...|       8|12/1/2010 8:26|     2.75|United Kingdom|              22.0|5288.630000000009|\n|     17850|   536365|   84029G|KNITTED UNION FLA...|       6|12/1/2010 8:26|     3.39|United Kingdom|             20.34|5288.630000000009|\n|     17850|   536365|   84029E|RED WOOLLY HOTTIE...|       6|12/1/2010 8:26|     3.39|United Kingdom|             20.34|5288.630000000009|\n+----------+---------+---------+--------------------+--------+--------------+---------+--------------+------------------+-----------------+\nonly showing top 5 rows"
     ]
    }
   ],
   "source": [
    "joined_df.show(5)"
   ]
  },
  {
   "cell_type": "code",
   "execution_count": 20,
   "metadata": {
    "trusted": true
   },
   "outputs": [
    {
     "data": {
      "text/plain": [
       "VBox()"
      ]
     },
     "metadata": {},
     "output_type": "display_data"
    },
    {
     "name": "stdout",
     "output_type": "stream",
     "text": [
      "Exception AttributeError: \"'ScalaMap' object has no attribute '_java_obj'\" in <bound method ScalaMap.__del__ of <sagemaker_pyspark.wrapper.ScalaMap object at 0x7f76b0280590>> ignored\nException AttributeError: \"'ScalaMap' object has no attribute '_java_obj'\" in <bound method ScalaMap.__del__ of <sagemaker_pyspark.wrapper.ScalaMap object at 0x7f76b0280510>> ignored\nException AttributeError: \"'Option' object has no attribute '_java_obj'\" in <bound method Option.__del__ of <sagemaker_pyspark.wrapper.Option object at 0x7f76b0155e50>> ignored\nException AttributeError: \"'Option' object has no attribute '_java_obj'\" in <bound method Option.__del__ of <sagemaker_pyspark.wrapper.Option object at 0x7f76b0155850>> ignored\nException AttributeError: \"'Option' object has no attribute '_java_obj'\" in <bound method Option.__del__ of <sagemaker_pyspark.wrapper.Option object at 0x7f76b0155e90>> ignored\nException AttributeError: \"'Option' object has no attribute '_java_obj'\" in <bound method Option.__del__ of <sagemaker_pyspark.wrapper.Option object at 0x7f76b01558d0>> ignored\nException AttributeError: \"'Option' object has no attribute '_java_obj'\" in <bound method Option.__del__ of <sagemaker_pyspark.wrapper.Option object at 0x7f76b0155a10>> ignored"
     ]
    }
   ],
   "source": [
    "from pyspark.ml import Pipeline\n",
    "from pyspark.ml.clustering import KMeans\n",
    "from pyspark.ml.feature import Normalizer\n",
    "from pyspark.ml.feature import OneHotEncoder\n",
    "from pyspark.ml.feature import QuantileDiscretizer\n",
    "from pyspark.ml.feature import StringIndexer\n",
    "from pyspark.ml.feature import VectorAssembler\n",
    "from sagemaker_pyspark import IAMRole\n",
    "from sagemaker_pyspark.algorithms import KMeansSageMakerEstimator\n",
    "\n",
    "role = 'arn:aws:iam::095585830284:role/EMR_EC2_DefaultRole'\n",
    "\n",
    "kmeans_step = KMeansSageMakerEstimator(\n",
    "    sagemakerRole=IAMRole(role),\n",
    "    trainingInstanceType=\"ml.m4.xlarge\",\n",
    "    trainingInstanceCount=1,\n",
    "    endpointInstanceType=\"ml.m4.xlarge\",\n",
    "    endpointInitialInstanceCount=1)\n",
    "kmeans_step.setK(3)\n",
    "kmeans_step.setFeatureDim(3722)\n",
    "\n",
    "stages = [StringIndexer(inputCol='StockCode', outputCol=\"stock_code_index\", handleInvalid='keep'),\n",
    "          OneHotEncoder(inputCol='stock_code_index', outputCol='stock_code_encoded'),\n",
    "          StringIndexer(inputCol='Country', outputCol='country_index', handleInvalid='keep'),\n",
    "          OneHotEncoder(inputCol='country_index', outputCol='country_encoded'),\n",
    "          QuantileDiscretizer(numBuckets=3, inputCol='SumTotalBought', outputCol='total_bought_index'),\n",
    "          VectorAssembler(inputCols=['stock_code_encoded', 'country_encoded', 'total_bought_index'],\n",
    "                          outputCol='features_raw'),\n",
    "          Normalizer(inputCol=\"features_raw\", outputCol=\"features\", p=1.0),\n",
    "          kmeans_step]\n",
    "\n",
    "pipeline = Pipeline(stages=stages)\n",
    "\n",
    "model = pipeline.fit(joined_df)\n"
   ]
  },
  {
   "cell_type": "code",
   "execution_count": 21,
   "metadata": {
    "trusted": true
   },
   "outputs": [
    {
     "data": {
      "text/plain": [
       "VBox()"
      ]
     },
     "metadata": {},
     "output_type": "display_data"
    }
   ],
   "source": [
    "df_with_clusters = model.transform(joined_df).cache()\n",
    "\n"
   ]
  },
  {
   "cell_type": "code",
   "execution_count": 23,
   "metadata": {
    "trusted": true
   },
   "outputs": [
    {
     "data": {
      "text/plain": [
       "VBox()"
      ]
     },
     "metadata": {},
     "output_type": "display_data"
    },
    {
     "name": "stdout",
     "output_type": "stream",
     "text": [
      "+----------+---------+---------+--------------------+--------+--------------+---------+--------------+------------------+-----------------+----------------+------------------+-------------+---------------+------------------+--------------------+--------------------+-------------------+---------------+\n|CustomerID|InvoiceNo|StockCode|         Description|Quantity|   InvoiceDate|UnitPrice|       Country|       TotalBought|   SumTotalBought|stock_code_index|stock_code_encoded|country_index|country_encoded|total_bought_index|        features_raw|            features|distance_to_cluster|closest_cluster|\n+----------+---------+---------+--------------------+--------+--------------+---------+--------------+------------------+-----------------+----------------+------------------+-------------+---------------+------------------+--------------------+--------------------+-------------------+---------------+\n|     17850|   536365|   85123A|WHITE HANGING HEA...|       6|12/1/2010 8:26|     2.55|United Kingdom|15.299999999999999|5288.630000000009|             0.0|  (3684,[0],[1.0])|          0.0| (37,[0],[1.0])|               2.0|(3722,[0,3684,372...|(3722,[0,3684,372...|0.26693078875541687|            2.0|\n|     17850|   536365|    71053| WHITE METAL LANTERN|       6|12/1/2010 8:26|     3.39|United Kingdom|             20.34|5288.630000000009|           403.0|(3684,[403],[1.0])|          0.0| (37,[0],[1.0])|               2.0|(3722,[403,3684,3...|(3722,[403,3684,3...| 0.2682397961616516|            2.0|\n|     17850|   536365|   84406B|CREAM CUPID HEART...|       8|12/1/2010 8:26|     2.75|United Kingdom|              22.0|5288.630000000009|           452.0|(3684,[452],[1.0])|          0.0| (37,[0],[1.0])|               2.0|(3722,[452,3684,3...|(3722,[452,3684,3...|  0.268250435590744|            2.0|\n|     17850|   536365|   84029G|KNITTED UNION FLA...|       6|12/1/2010 8:26|     3.39|United Kingdom|             20.34|5288.630000000009|           288.0|(3684,[288],[1.0])|          0.0| (37,[0],[1.0])|               2.0|(3722,[288,3684,3...|(3722,[288,3684,3...|  0.268185555934906|            2.0|\n|     17850|   536365|   84029E|RED WOOLLY HOTTIE...|       6|12/1/2010 8:26|     3.39|United Kingdom|             20.34|5288.630000000009|           281.0|(3684,[281],[1.0])|          0.0| (37,[0],[1.0])|               2.0|(3722,[281,3684,3...|(3722,[281,3684,3...| 0.2680809795856476|            2.0|\n+----------+---------+---------+--------------------+--------+--------------+---------+--------------+------------------+-----------------+----------------+------------------+-------------+---------------+------------------+--------------------+--------------------+-------------------+---------------+\nonly showing top 5 rows"
     ]
    }
   ],
   "source": [
    "df_with_clusters.show(5)"
   ]
  },
  {
   "cell_type": "code",
   "execution_count": 24,
   "metadata": {
    "trusted": true
   },
   "outputs": [
    {
     "data": {
      "text/plain": [
       "VBox()"
      ]
     },
     "metadata": {},
     "output_type": "display_data"
    }
   ],
   "source": [
    "from pyspark.ml.evaluation import ClusteringEvaluator\n",
    "\n",
    "evaluator = ClusteringEvaluator()\n",
    "evaluator.setPredictionCol(\"closest_cluster\")\n",
    "\n",
    "silhouette = evaluator.evaluate(df_with_clusters)\n"
   ]
  },
  {
   "cell_type": "code",
   "execution_count": 25,
   "metadata": {
    "trusted": true
   },
   "outputs": [
    {
     "data": {
      "text/plain": [
       "VBox()"
      ]
     },
     "metadata": {},
     "output_type": "display_data"
    },
    {
     "name": "stdout",
     "output_type": "stream",
     "text": [
      "0.34719788320926304"
     ]
    }
   ],
   "source": [
    "silhouette"
   ]
  },
  {
   "cell_type": "code",
   "execution_count": null,
   "metadata": {
    "trusted": true
   },
   "outputs": [],
   "source": [
    ""
   ]
  }
 ],
 "metadata": {
  "kernelspec": {
   "name": "pysparkkernel",
   "display_name": "PySpark",
   "language": ""
  },
  "language_info": {
   "name": "pyspark",
   "mimetype": "text/x-python",
   "codemirror_mode": {
    "name": "python",
    "version": 2
   },
   "pygments_lexer": "python2"
  }
 },
 "nbformat": 4,
 "nbformat_minor": 2
}
