{
 "cells": [
  {
   "cell_type": "code",
   "execution_count": 1,
   "metadata": {},
   "outputs": [
    {
     "name": "stdout",
     "output_type": "stream",
     "text": [
      "Looking in indexes: http://artifactory.devaws.dataxu.net/artifactory/api/pypi/pypi-virtual/simple/\r\n"
     ]
    },
    {
     "name": "stdout",
     "output_type": "stream",
     "text": [
      "Collecting twython\r\n"
     ]
    },
    {
     "name": "stdout",
     "output_type": "stream",
     "text": [
      "  Downloading http://artifactory.devaws.dataxu.net/artifactory/api/pypi/pypi-virtual/packages/8c/2b/c0883f05b03a8e87787d56395d6c89515fe7e0bf80abd3778b6bb3a6873f/twython-3.7.0.tar.gz\r\n"
     ]
    },
    {
     "name": "stdout",
     "output_type": "stream",
     "text": [
      "Collecting requests>=2.1.0 (from twython)\r\n"
     ]
    },
    {
     "name": "stdout",
     "output_type": "stream",
     "text": [
      "\u001b[?25l  Downloading http://artifactory.devaws.dataxu.net/artifactory/api/pypi/pypi-virtual/packages/ff/17/5cbb026005115301a8fb2f9b0e3e8d32313142fe8b617070e7baad20554f/requests-2.20.1-py2.py3-none-any.whl (57kB)\r\n\r\u001b[K    17% |█████▋                          | 10kB 26.1MB/s eta 0:00:01\r\u001b[K    35% |███████████▎                    | 20kB 21.3MB/s eta 0:00:01\r\u001b[K    52% |█████████████████               | 30kB 15.3MB/s eta 0:00:01\r\u001b[K    70% |██████████████████████▋         | 40kB 14.3MB/s eta 0:00:01\r\u001b[K    88% |████████████████████████████▎   | 51kB 13.8MB/s eta 0:00:01\r\u001b[K    100% |████████████████████████████████| 61kB 14.3MB/s \r\n"
     ]
    },
    {
     "name": "stdout",
     "output_type": "stream",
     "text": [
      "\u001b[?25hCollecting requests_oauthlib>=0.4.0 (from twython)\r\n"
     ]
    },
    {
     "name": "stdout",
     "output_type": "stream",
     "text": [
      "  Downloading http://artifactory.devaws.dataxu.net/artifactory/api/pypi/pypi-virtual/packages/94/e7/c250d122992e1561690d9c0f7856dadb79d61fd4bdd0e598087dce607f6c/requests_oauthlib-1.0.0-py2.py3-none-any.whl\r\n"
     ]
    },
    {
     "name": "stdout",
     "output_type": "stream",
     "text": [
      "Collecting urllib3<1.25,>=1.21.1 (from requests>=2.1.0->twython)\r\n"
     ]
    },
    {
     "name": "stdout",
     "output_type": "stream",
     "text": [
      "\u001b[?25l  Downloading http://artifactory.devaws.dataxu.net/artifactory/api/pypi/pypi-virtual/packages/62/00/ee1d7de624db8ba7090d1226aebefab96a2c71cd5cfa7629d6ad3f61b79e/urllib3-1.24.1-py2.py3-none-any.whl (118kB)\r\n\r\u001b[K    8% |██▊                             | 10kB 12.5MB/s eta 0:00:01\r\u001b[K    17% |█████▌                          | 20kB 12.1MB/s eta 0:00:01\r\u001b[K    26% |████████▎                       | 30kB 12.1MB/s eta 0:00:01\r\u001b[K    34% |███████████                     | 40kB 11.8MB/s eta 0:00:01\r\u001b[K    43% |█████████████▉                  | 51kB 11.5MB/s eta 0:00:01\r\u001b[K    52% |████████████████▋               | 61kB 11.2MB/s eta 0:00:01"
     ]
    },
    {
     "name": "stdout",
     "output_type": "stream",
     "text": [
      "\r\u001b[K    60% |███████████████████▍            | 71kB 382kB/s eta 0:00:01\r\u001b[K    69% |██████████████████████▏         | 81kB 432kB/s eta 0:00:01\r\u001b[K    78% |█████████████████████████       | 92kB 483kB/s eta 0:00:01\r\u001b[K    86% |███████████████████████████▊    | 102kB 533kB/s eta 0:00:01\r\u001b[K    95% |██████████████████████████████▌ | 112kB 532kB/s eta 0:00:01\r\u001b[K    100% |████████████████████████████████| 122kB 532kB/s \r\n"
     ]
    },
    {
     "name": "stdout",
     "output_type": "stream",
     "text": [
      "\u001b[?25hRequirement already satisfied: certifi>=2017.4.17 in /Users/mgurmendez/.conda/envs/mastering-ml-on-aws/lib/python3.6/site-packages (from requests>=2.1.0->twython) (2018.10.15)\r\nCollecting chardet<3.1.0,>=3.0.2 (from requests>=2.1.0->twython)\r\n"
     ]
    },
    {
     "name": "stdout",
     "output_type": "stream",
     "text": [
      "\u001b[?25l  Downloading http://artifactory.devaws.dataxu.net/artifactory/api/pypi/pypi-virtual/packages/bc/a9/01ffebfb562e4274b6487b4bb1ddec7ca55ec7510b22e4c51f14098443b8/chardet-3.0.4-py2.py3-none-any.whl (133kB)\r\n\r\u001b[K    7% |██▌                             | 10kB 15.9MB/s eta 0:00:01\r\u001b[K    15% |█████                           | 20kB 11.5MB/s eta 0:00:01\r\u001b[K    23% |███████▍                        | 30kB 8.9MB/s eta 0:00:01\r\u001b[K    30% |█████████▉                      | 40kB 8.9MB/s eta 0:00:01\r\u001b[K    38% |████████████▎                   | 51kB 8.7MB/s eta 0:00:01\r\u001b[K    46% |██████████████▊                 | 61kB 8.7MB/s eta 0:00:01\r\u001b[K    53% |█████████████████▏              | 71kB 8.8MB/s eta 0:00:01\r\u001b[K    61% |███████████████████▋            | 81kB 8.9MB/s eta 0:00:01\r\u001b[K    69% |██████████████████████▏         | 92kB 9.3MB/s eta 0:00:01\r\u001b[K    76% |████████████████████████▋       | 102kB 9.3MB/s eta 0:00:01\r\u001b[K    84% |███████████████████████████     | 112kB 9.1MB/s eta 0:00:01\r\u001b[K    92% |█████████████████████████████▌  | 122kB 9.2MB/s eta 0:00:01"
     ]
    },
    {
     "name": "stdout",
     "output_type": "stream",
     "text": [
      "\r\u001b[K    99% |████████████████████████████████| 133kB 554kB/s eta 0:00:01\r\u001b[K    100% |████████████████████████████████| 143kB 557kB/s \r\n"
     ]
    },
    {
     "name": "stdout",
     "output_type": "stream",
     "text": [
      "\u001b[?25hCollecting idna<2.8,>=2.5 (from requests>=2.1.0->twython)\r\n"
     ]
    },
    {
     "name": "stdout",
     "output_type": "stream",
     "text": [
      "\u001b[?25l  Downloading http://artifactory.devaws.dataxu.net/artifactory/api/pypi/pypi-virtual/packages/4b/2a/0276479a4b3caeb8a8c1af2f8e4355746a97fab05a372e4a2c6a6b876165/idna-2.7-py2.py3-none-any.whl (58kB)\r\n\r\u001b[K    17% |█████▋                          | 10kB 20.8MB/s eta 0:00:01\r\u001b[K    35% |███████████▎                    | 20kB 15.1MB/s eta 0:00:01\r\u001b[K    52% |████████████████▉               | 30kB 13.0MB/s eta 0:00:01\r\u001b[K    70% |██████████████████████▌         | 40kB 12.4MB/s eta 0:00:01\r\u001b[K    87% |████████████████████████████▏   | 51kB 11.6MB/s eta 0:00:01\r\u001b[K    100% |████████████████████████████████| 61kB 12.6MB/s \r\n"
     ]
    },
    {
     "name": "stdout",
     "output_type": "stream",
     "text": [
      "\u001b[?25hCollecting oauthlib>=0.6.2 (from requests_oauthlib>=0.4.0->twython)\r\n"
     ]
    },
    {
     "name": "stdout",
     "output_type": "stream",
     "text": [
      "\u001b[?25l  Downloading http://artifactory.devaws.dataxu.net/artifactory/api/pypi/pypi-virtual/packages/e6/d1/ddd9cfea3e736399b97ded5c2dd62d1322adef4a72d816f1ed1049d6a179/oauthlib-2.1.0-py2.py3-none-any.whl (121kB)\r\n\r\u001b[K    8% |██▊                             | 10kB 9.4MB/s eta 0:00:01\r\u001b[K    16% |█████▍                          | 20kB 11.0MB/s eta 0:00:01\r\u001b[K    25% |████████                        | 30kB 10.9MB/s eta 0:00:01\r\u001b[K    33% |██████████▊                     | 40kB 10.7MB/s eta 0:00:01\r\u001b[K    42% |█████████████▌                  | 51kB 10.6MB/s eta 0:00:01\r\u001b[K    50% |████████████████▏               | 61kB 10.3MB/s eta 0:00:01\r\u001b[K    58% |██████████████████▉             | 71kB 10.0MB/s eta 0:00:01\r\u001b[K    67% |█████████████████████▌          | 81kB 9.9MB/s eta 0:00:01\r\u001b[K    75% |████████████████████████▏       | 92kB 9.7MB/s eta 0:00:01\r\u001b[K    84% |███████████████████████████     | 102kB 9.7MB/s eta 0:00:01\r\u001b[K    92% |█████████████████████████████▋  | 112kB 10.0MB/s eta 0:00:01\r\u001b[K    100% |████████████████████████████████| 122kB 10.0MB/s \r\n"
     ]
    },
    {
     "name": "stdout",
     "output_type": "stream",
     "text": [
      "\u001b[?25hBuilding wheels for collected packages: twython\r\n"
     ]
    },
    {
     "name": "stdout",
     "output_type": "stream",
     "text": [
      "  Running setup.py bdist_wheel for twython ... \u001b[?25l-"
     ]
    },
    {
     "name": "stdout",
     "output_type": "stream",
     "text": [
      "\b \b\\"
     ]
    },
    {
     "name": "stdout",
     "output_type": "stream",
     "text": [
      "\b \bdone\r\n\u001b[?25h  Stored in directory: /Users/mgurmendez/Library/Caches/pip/wheels/14/34/85/1681242b79a0820aecbea5c51df42e2a9ff9b1bfd4d0033de0\r\nSuccessfully built twython\r\n"
     ]
    },
    {
     "name": "stdout",
     "output_type": "stream",
     "text": [
      "Installing collected packages: urllib3, chardet, idna, requests, oauthlib, requests-oauthlib, twython\r\n"
     ]
    },
    {
     "name": "stdout",
     "output_type": "stream",
     "text": [
      "Successfully installed chardet-3.0.4 idna-2.7 oauthlib-2.1.0 requests-2.20.1 requests-oauthlib-1.0.0 twython-3.7.0 urllib3-1.24.1\r\n"
     ]
    }
   ],
   "source": [
    "!pip install twython\n"
   ]
  },
  {
   "cell_type": "code",
   "execution_count": 1,
   "metadata": {},
   "outputs": [],
   "source": [
    "from twython import Twython"
   ]
  },
  {
   "cell_type": "code",
   "execution_count": 2,
   "metadata": {},
   "outputs": [],
   "source": [
    "# The two twitter accounts are: @gop @TheDemocrats\n",
    "from os.path import expanduser\n",
    "\n",
    "SRC_PATH = expanduser(\"~\") + '/SageMaker/mastering-ml-on-aws/chapter2'"
   ]
  },
  {
   "cell_type": "code",
   "execution_count": 8,
   "metadata": {},
   "outputs": [],
   "source": [
    "import os\n",
    "\n",
    "APP_KEY = os.getenv('TWITTER_APP_KEY')\n",
    "APP_SECRET = os.getenv('TWITTER_APP_SECRET')\n",
    "OAUTH_TOKEN = os.getenv('TWITTER_OAUTH_TOKEN')\n",
    "OAUTH_TOKEN_SECRET = os.getenv('TWITTER_OAUTH_TOKEN_SECRET')\n",
    "from twython import Twython\n",
    "\n",
    "twitter = Twython(APP_KEY, APP_SECRET,\n",
    "                  OAUTH_TOKEN, OAUTH_TOKEN_SECRET)\n"
   ]
  },
  {
   "cell_type": "code",
   "execution_count": 9,
   "metadata": {},
   "outputs": [],
   "source": [
    "gop_tweets = [x['full_text'].replace('\\n', ' ') for x in twitter.get_user_timeline(screen_name='GOP', tweet_mode='extended', count=500)]\n"
   ]
  },
  {
   "cell_type": "code",
   "execution_count": 19,
   "metadata": {},
   "outputs": [],
   "source": [
    "dem_tweets = [x['full_text'].replaceall('\\n', ' ') for x in twitter.get_user_timeline(screen_name='TheDemocrats', tweet_mode='extended', count=500)]\n"
   ]
  },
  {
   "cell_type": "code",
   "execution_count": 21,
   "metadata": {},
   "outputs": [],
   "source": [
    "def save_tweets(filename, tweets):\n",
    "    with open(filename, \"w+\") as file:\n",
    "        file.write(\"\\n\".join(tweets).encode('utf-8'))\n"
   ]
  },
  {
   "cell_type": "code",
   "execution_count": 22,
   "metadata": {
    "collapsed": false
   },
   "outputs": [],
   "source": [
    "save_tweets(SRC_PATH + 'gop.txt', gop_tweets)\n",
    "save_tweets(SRC_PATH + 'dem.txt', dem_tweets)\n"
   ]
  }
 ],
 "metadata": {
  "kernelspec": {
   "display_name": "conda_python3",
   "language": "python",
   "name": "conda_python3"
  },
  "language_info": {
   "codemirror_mode": {
    "name": "ipython",
    "version": 3
   },
   "file_extension": ".py",
   "mimetype": "text/x-python",
   "name": "python",
   "nbconvert_exporter": "python",
   "pygments_lexer": "ipython3",
   "version": "3.6.5"
  }
 },
 "nbformat": 4,
 "nbformat_minor": 2
}
