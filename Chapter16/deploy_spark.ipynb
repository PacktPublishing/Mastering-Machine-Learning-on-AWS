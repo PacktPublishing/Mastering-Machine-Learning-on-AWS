{
 "cells": [
  {
   "cell_type": "code",
   "execution_count": 1,
   "metadata": {},
   "outputs": [],
   "source": [
    "from os.path import expanduser\n",
    "import boto3\n",
    "\n",
    "SRC_PATH = expanduser(\"~\") + '/SageMaker/mastering-ml-on-aws/chapter3/'\n"
   ]
  },
  {
   "cell_type": "code",
   "execution_count": 2,
   "metadata": {},
   "outputs": [],
   "source": [
    "from pyspark.context import SparkContext\n",
    "\n",
    "sc = SparkContext('local', 'test')\n"
   ]
  },
  {
   "cell_type": "code",
   "execution_count": 3,
   "metadata": {},
   "outputs": [],
   "source": [
    "from pyspark.sql import SQLContext\n",
    "\n",
    "sql = SQLContext(sc)\n",
    "\n",
    "housing_df = sql.read.csv(SRC_PATH + 'train.csv', header=True, inferSchema=True)\n",
    "\n",
    "reduced_housing_df = housing_df.select(['crim', 'zn', 'indus', 'medv'])\n"
   ]
  },
  {
   "cell_type": "code",
   "execution_count": 4,
   "metadata": {},
   "outputs": [],
   "source": [
    "from pyspark.ml import Pipeline\n",
    "from pyspark.ml.regression import LinearRegression\n",
    "from pyspark.ml.feature import VectorAssembler\n",
    "\n",
    "training_features = ['crim', 'zn', 'indus']\n",
    "\n",
    "vector_assembler = VectorAssembler(inputCols=training_features, outputCol=\"features\")\n",
    "linear = LinearRegression(featuresCol=\"features\", labelCol=\"medv\")\n",
    "pipeline = Pipeline(stages=[vector_assembler, linear])\n",
    "\n",
    "model = pipeline.fit(reduced_housing_df)"
   ]
  },
  {
   "cell_type": "code",
   "execution_count": 5,
   "metadata": {},
   "outputs": [],
   "source": [
    "!rm -rf /tmp/linear-model"
   ]
  },
  {
   "cell_type": "code",
   "execution_count": 6,
   "metadata": {},
   "outputs": [],
   "source": [
    "model.save(\"file:///tmp/linear-model\")"
   ]
  },
  {
   "cell_type": "code",
   "execution_count": 7,
   "metadata": {
    "scrolled": true
   },
   "outputs": [
    {
     "name": "stdout",
     "output_type": "stream",
     "text": [
      "/tmp/linear-model:\r\n",
      "metadata  stages\r\n",
      "\r\n",
      "/tmp/linear-model/metadata:\r\n",
      "part-00000  _SUCCESS\r\n",
      "\r\n",
      "/tmp/linear-model/stages:\r\n",
      "0_VectorAssembler_45a8b08815826d4dcad9\t1_LinearRegression_4e0aaf0c9b20a556cff4\r\n",
      "\r\n",
      "/tmp/linear-model/stages/0_VectorAssembler_45a8b08815826d4dcad9:\r\n",
      "metadata\r\n",
      "\r\n",
      "/tmp/linear-model/stages/0_VectorAssembler_45a8b08815826d4dcad9/metadata:\r\n",
      "part-00000  _SUCCESS\r\n",
      "\r\n",
      "/tmp/linear-model/stages/1_LinearRegression_4e0aaf0c9b20a556cff4:\r\n",
      "data  metadata\r\n",
      "\r\n",
      "/tmp/linear-model/stages/1_LinearRegression_4e0aaf0c9b20a556cff4/data:\r\n",
      "part-00000-ca3dd5f1-ad9a-41f2-865e-86e0e0a0d8fa-c000.snappy.parquet  _SUCCESS\r\n",
      "\r\n",
      "/tmp/linear-model/stages/1_LinearRegression_4e0aaf0c9b20a556cff4/metadata:\r\n",
      "part-00000  _SUCCESS\r\n"
     ]
    }
   ],
   "source": [
    "!ls -R /tmp/linear-model "
   ]
  },
  {
   "cell_type": "code",
   "execution_count": 8,
   "metadata": {},
   "outputs": [],
   "source": [
    "from pyspark.ml import PipelineModel\n",
    "\n",
    "loaded_model = PipelineModel.load('/tmp/linear-model')"
   ]
  },
  {
   "cell_type": "code",
   "execution_count": 9,
   "metadata": {},
   "outputs": [
    {
     "name": "stdout",
     "output_type": "stream",
     "text": [
      "+-------+----+-----+----+\n",
      "|   crim|  zn|indus|medv|\n",
      "+-------+----+-----+----+\n",
      "|0.00632|18.0| 2.31|24.0|\n",
      "|0.02731| 0.0| 7.07|21.6|\n",
      "|0.03237| 0.0| 2.18|33.4|\n",
      "+-------+----+-----+----+\n",
      "\n"
     ]
    }
   ],
   "source": [
    "reduced_housing_df.limit(3).show()\n"
   ]
  },
  {
   "cell_type": "code",
   "execution_count": 10,
   "metadata": {},
   "outputs": [
    {
     "name": "stdout",
     "output_type": "stream",
     "text": [
      "+-------+----+-----+----+-------------------+------------------+\n",
      "|   crim|  zn|indus|medv|           features|        prediction|\n",
      "+-------+----+-----+----+-------------------+------------------+\n",
      "|0.00632|18.0| 2.31|24.0|[0.00632,18.0,2.31]|27.714445239256854|\n",
      "|0.02731| 0.0| 7.07|21.6| [0.02731,0.0,7.07]|24.859566163416336|\n",
      "|0.03237| 0.0| 2.18|33.4| [0.03237,0.0,2.18]| 26.74953947801712|\n",
      "+-------+----+-----+----+-------------------+------------------+\n",
      "\n"
     ]
    }
   ],
   "source": [
    "loaded_model.transform(reduced_housing_df.limit(3)).show()"
   ]
  },
  {
   "cell_type": "code",
   "execution_count": 11,
   "metadata": {
    "scrolled": true
   },
   "outputs": [
    {
     "data": {
      "text/plain": [
       "StructType(List(StructField(crim,DoubleType,true),StructField(zn,DoubleType,true),StructField(indus,DoubleType,true),StructField(medv,DoubleType,true)))"
      ]
     },
     "execution_count": 11,
     "metadata": {},
     "output_type": "execute_result"
    }
   ],
   "source": [
    "reduced_housing_df.schema"
   ]
  },
  {
   "cell_type": "code",
   "execution_count": 12,
   "metadata": {},
   "outputs": [],
   "source": [
    "from pyspark.sql.types import *\n",
    "schema = StructType([StructField('crim', DoubleType(), True),\n",
    "                     StructField('zn', DoubleType(), True),\n",
    "                     StructField('indus', DoubleType(), True)])"
   ]
  },
  {
   "cell_type": "code",
   "execution_count": 13,
   "metadata": {},
   "outputs": [],
   "source": [
    "from pyspark.sql import Row\n",
    "predict_df = sql.createDataFrame([Row(crim=0.00632, zn=18.0, indus=2.31)],schema=schema) "
   ]
  },
  {
   "cell_type": "code",
   "execution_count": 16,
   "metadata": {},
   "outputs": [
    {
     "name": "stdout",
     "output_type": "stream",
     "text": [
      "+-------+----+-----+\n",
      "|   crim|  zn|indus|\n",
      "+-------+----+-----+\n",
      "|0.00632|18.0| 2.31|\n",
      "+-------+----+-----+\n",
      "\n"
     ]
    }
   ],
   "source": [
    "predict_df.show()"
   ]
  },
  {
   "cell_type": "code",
   "execution_count": 14,
   "metadata": {},
   "outputs": [
    {
     "name": "stdout",
     "output_type": "stream",
     "text": [
      "+-------+----+-----+-------------------+------------------+\n",
      "|   crim|  zn|indus|           features|        prediction|\n",
      "+-------+----+-----+-------------------+------------------+\n",
      "|0.00632|18.0| 2.31|[0.00632,18.0,2.31]|27.714445239256854|\n",
      "+-------+----+-----+-------------------+------------------+\n",
      "\n"
     ]
    }
   ],
   "source": [
    "loaded_model.transform(predict_df).show()"
   ]
  },
  {
   "cell_type": "code",
   "execution_count": 15,
   "metadata": {},
   "outputs": [
    {
     "data": {
      "text/plain": [
       "27.714445239256854"
      ]
     },
     "execution_count": 15,
     "metadata": {},
     "output_type": "execute_result"
    }
   ],
   "source": [
    "loaded_model.transform(predict_df).collect()[0].prediction"
   ]
  },
  {
   "cell_type": "code",
   "execution_count": null,
   "metadata": {},
   "outputs": [],
   "source": []
  }
 ],
 "metadata": {
  "kernelspec": {
   "display_name": "conda_python3",
   "language": "python",
   "name": "conda_python3"
  },
  "language_info": {
   "codemirror_mode": {
    "name": "ipython",
    "version": 3
   },
   "file_extension": ".py",
   "mimetype": "text/x-python",
   "name": "python",
   "nbconvert_exporter": "python",
   "pygments_lexer": "ipython3",
   "version": "3.6.5"
  }
 },
 "nbformat": 4,
 "nbformat_minor": 2
}
