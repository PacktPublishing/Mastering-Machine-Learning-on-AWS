{
 "cells": [
  {
   "cell_type": "code",
   "execution_count": 2,
   "metadata": {},
   "outputs": [],
   "source": [
    "import tensorflow as tf\n",
    "import pandas as pd\n",
    "\n",
    "from os.path import expanduser\n",
    "\n",
    "SRC_PATH = expanduser(\"~\") + '/SageMaker/mastering-ml-on-aws/chapter10/'\n"
   ]
  },
  {
   "cell_type": "code",
   "execution_count": 3,
   "metadata": {},
   "outputs": [
    {
     "data": {
      "text/html": [
       "<div>\n",
       "<style scoped>\n",
       "    .dataframe tbody tr th:only-of-type {\n",
       "        vertical-align: middle;\n",
       "    }\n",
       "\n",
       "    .dataframe tbody tr th {\n",
       "        vertical-align: top;\n",
       "    }\n",
       "\n",
       "    .dataframe thead th {\n",
       "        text-align: right;\n",
       "    }\n",
       "</style>\n",
       "<table border=\"1\" class=\"dataframe\">\n",
       "  <thead>\n",
       "    <tr style=\"text-align: right;\">\n",
       "      <th></th>\n",
       "      <th>ID</th>\n",
       "      <th>crim</th>\n",
       "      <th>zn</th>\n",
       "      <th>indus</th>\n",
       "      <th>chas</th>\n",
       "      <th>nox</th>\n",
       "      <th>rm</th>\n",
       "      <th>age</th>\n",
       "      <th>dis</th>\n",
       "      <th>rad</th>\n",
       "      <th>tax</th>\n",
       "      <th>ptratio</th>\n",
       "      <th>black</th>\n",
       "      <th>lstat</th>\n",
       "      <th>medv</th>\n",
       "    </tr>\n",
       "  </thead>\n",
       "  <tbody>\n",
       "    <tr>\n",
       "      <th>90</th>\n",
       "      <td>134</td>\n",
       "      <td>0.32982</td>\n",
       "      <td>0.0</td>\n",
       "      <td>21.89</td>\n",
       "      <td>0</td>\n",
       "      <td>0.624</td>\n",
       "      <td>5.822</td>\n",
       "      <td>95.4</td>\n",
       "      <td>2.4699</td>\n",
       "      <td>4</td>\n",
       "      <td>437</td>\n",
       "      <td>21.2</td>\n",
       "      <td>388.69</td>\n",
       "      <td>15.03</td>\n",
       "      <td>18.4</td>\n",
       "    </tr>\n",
       "    <tr>\n",
       "      <th>153</th>\n",
       "      <td>225</td>\n",
       "      <td>0.31533</td>\n",
       "      <td>0.0</td>\n",
       "      <td>6.20</td>\n",
       "      <td>0</td>\n",
       "      <td>0.504</td>\n",
       "      <td>8.266</td>\n",
       "      <td>78.3</td>\n",
       "      <td>2.8944</td>\n",
       "      <td>8</td>\n",
       "      <td>307</td>\n",
       "      <td>17.4</td>\n",
       "      <td>385.05</td>\n",
       "      <td>4.14</td>\n",
       "      <td>44.8</td>\n",
       "    </tr>\n",
       "    <tr>\n",
       "      <th>9</th>\n",
       "      <td>15</td>\n",
       "      <td>0.63796</td>\n",
       "      <td>0.0</td>\n",
       "      <td>8.14</td>\n",
       "      <td>0</td>\n",
       "      <td>0.538</td>\n",
       "      <td>6.096</td>\n",
       "      <td>84.5</td>\n",
       "      <td>4.4619</td>\n",
       "      <td>4</td>\n",
       "      <td>307</td>\n",
       "      <td>21.0</td>\n",
       "      <td>380.02</td>\n",
       "      <td>10.26</td>\n",
       "      <td>18.2</td>\n",
       "    </tr>\n",
       "    <tr>\n",
       "      <th>22</th>\n",
       "      <td>40</td>\n",
       "      <td>0.02763</td>\n",
       "      <td>75.0</td>\n",
       "      <td>2.95</td>\n",
       "      <td>0</td>\n",
       "      <td>0.428</td>\n",
       "      <td>6.595</td>\n",
       "      <td>21.8</td>\n",
       "      <td>5.4011</td>\n",
       "      <td>3</td>\n",
       "      <td>252</td>\n",
       "      <td>18.3</td>\n",
       "      <td>395.63</td>\n",
       "      <td>4.32</td>\n",
       "      <td>30.8</td>\n",
       "    </tr>\n",
       "    <tr>\n",
       "      <th>258</th>\n",
       "      <td>393</td>\n",
       "      <td>11.57790</td>\n",
       "      <td>0.0</td>\n",
       "      <td>18.10</td>\n",
       "      <td>0</td>\n",
       "      <td>0.700</td>\n",
       "      <td>5.036</td>\n",
       "      <td>97.0</td>\n",
       "      <td>1.7700</td>\n",
       "      <td>24</td>\n",
       "      <td>666</td>\n",
       "      <td>20.2</td>\n",
       "      <td>396.90</td>\n",
       "      <td>25.68</td>\n",
       "      <td>9.7</td>\n",
       "    </tr>\n",
       "  </tbody>\n",
       "</table>\n",
       "</div>"
      ],
      "text/plain": [
       "      ID      crim    zn  indus  chas    nox     rm   age     dis  rad  tax  \\\n",
       "90   134   0.32982   0.0  21.89     0  0.624  5.822  95.4  2.4699    4  437   \n",
       "153  225   0.31533   0.0   6.20     0  0.504  8.266  78.3  2.8944    8  307   \n",
       "9     15   0.63796   0.0   8.14     0  0.538  6.096  84.5  4.4619    4  307   \n",
       "22    40   0.02763  75.0   2.95     0  0.428  6.595  21.8  5.4011    3  252   \n",
       "258  393  11.57790   0.0  18.10     0  0.700  5.036  97.0  1.7700   24  666   \n",
       "\n",
       "     ptratio   black  lstat  medv  \n",
       "90      21.2  388.69  15.03  18.4  \n",
       "153     17.4  385.05   4.14  44.8  \n",
       "9       21.0  380.02  10.26  18.2  \n",
       "22      18.3  395.63   4.32  30.8  \n",
       "258     20.2  396.90  25.68   9.7  "
      ]
     },
     "execution_count": 3,
     "metadata": {},
     "output_type": "execute_result"
    }
   ],
   "source": [
    "from sklearn.model_selection import train_test_split\n",
    "\n",
    "housing_df = pd.read_csv(SRC_PATH + 'train.csv')\n",
    "training_df, test_df = train_test_split(housing_df, test_size=0.2)\n",
    "\n",
    "training_df.head()\n"
   ]
  },
  {
   "cell_type": "code",
   "execution_count": 4,
   "metadata": {},
   "outputs": [],
   "source": [
    "training_features = ['crim', 'zn', 'indus', 'chas', 'nox', 'rm', 'age', 'dis', 'tax', 'ptratio', 'lstat']\n",
    "label = 'medv'\n"
   ]
  },
  {
   "cell_type": "code",
   "execution_count": 61,
   "metadata": {
    "collapsed": false
   },
   "outputs": [
    {
     "name": "stdout",
     "output_type": "stream",
     "text": [
      "INFO:tensorflow:Initializing RunConfig with distribution strategies.\n",
      "INFO:tensorflow:Not using Distribute Coordinator.\n",
      "WARNING:tensorflow:Using temporary folder as model directory: /tmp/tmpnja4ig82\n",
      "INFO:tensorflow:Using config: {'_model_dir': '/tmp/tmpnja4ig82', '_tf_random_seed': None, '_save_summary_steps': 100, '_save_checkpoints_steps': None, '_save_checkpoints_secs': 600, '_session_config': allow_soft_placement: true\n",
      "graph_options {\n",
      "  rewrite_options {\n",
      "    meta_optimizer_iterations: ONE\n",
      "  }\n",
      "}\n",
      ", '_keep_checkpoint_max': 5, '_keep_checkpoint_every_n_hours': 10000, '_log_step_count_steps': 100, '_train_distribute': <tensorflow.contrib.distribute.python.mirrored_strategy.MirroredStrategy object at 0x7f1ae462eac8>, '_device_fn': None, '_protocol': None, '_eval_distribute': None, '_experimental_distribute': None, '_service': None, '_cluster_spec': <tensorflow.python.training.server_lib.ClusterSpec object at 0x7f1ae462ec50>, '_task_type': 'worker', '_task_id': 0, '_global_id_in_cluster': 0, '_master': '', '_evaluation_master': '', '_is_chief': True, '_num_ps_replicas': 0, '_num_worker_replicas': 1, '_distribute_coordinator_mode': None}\n"
     ]
    }
   ],
   "source": [
    "distribution = tf.contrib.distribute.MirroredStrategy(num_gpus=4)\n",
    "config = tf.estimator.RunConfig(train_distribute=distribution)\n",
    "tf_regressor = tf.estimator.LinearRegressor(\n",
    "    config=config,\n",
    "    optimizer=tf.train.GradientDescentOptimizer(learning_rate=0.0000001),\n",
    "    feature_columns=[tf.feature_column.numeric_column('inputs', shape=(11,))],\n",
    ")\n"
   ]
  },
  {
   "cell_type": "code",
   "execution_count": 68,
   "metadata": {},
   "outputs": [
    {
     "name": "stdout",
     "output_type": "stream",
     "text": [
      "INFO:tensorflow:Calling model_fn.\n",
      "INFO:tensorflow:Calling model_fn.\n",
      "INFO:tensorflow:Calling model_fn.\n",
      "INFO:tensorflow:Calling model_fn.\n",
      "INFO:tensorflow:Done calling model_fn.\n",
      "INFO:tensorflow:Done calling model_fn.\n",
      "INFO:tensorflow:Done calling model_fn.\n",
      "INFO:tensorflow:Done calling model_fn.\n",
      "INFO:tensorflow:Create CheckpointSaverHook.\n",
      "INFO:tensorflow:Graph was finalized.\n",
      "INFO:tensorflow:Restoring parameters from /tmp/tmpnja4ig82/model.ckpt-3325\n",
      "INFO:tensorflow:Running local_init_op.\n",
      "INFO:tensorflow:Done running local_init_op.\n",
      "INFO:tensorflow:Saving checkpoints for 3325 into /tmp/tmpnja4ig82/model.ckpt.\n",
      "INFO:tensorflow:loss = 723.9987, step = 3325\n",
      "INFO:tensorflow:global_step/sec: 277.783\n",
      "INFO:tensorflow:loss = 612.1852, step = 3425 (0.361 sec)\n",
      "INFO:tensorflow:global_step/sec: 446.739\n",
      "INFO:tensorflow:loss = 276.69772, step = 3525 (0.224 sec)\n",
      "INFO:tensorflow:global_step/sec: 441.015\n",
      "INFO:tensorflow:loss = 497.48373, step = 3625 (0.227 sec)\n",
      "INFO:tensorflow:global_step/sec: 447.19\n",
      "INFO:tensorflow:loss = 520.3506, step = 3725 (0.224 sec)\n",
      "INFO:tensorflow:global_step/sec: 443.75\n",
      "INFO:tensorflow:loss = 155.08502, step = 3825 (0.225 sec)\n",
      "INFO:tensorflow:global_step/sec: 443.252\n",
      "INFO:tensorflow:loss = 420.95624, step = 3925 (0.226 sec)\n",
      "INFO:tensorflow:global_step/sec: 443.128\n",
      "INFO:tensorflow:loss = 99.16905, step = 4025 (0.226 sec)\n",
      "INFO:tensorflow:global_step/sec: 451.917\n",
      "INFO:tensorflow:loss = 315.7607, step = 4125 (0.221 sec)\n",
      "INFO:tensorflow:global_step/sec: 446.991\n",
      "INFO:tensorflow:loss = 69.76587, step = 4225 (0.224 sec)\n",
      "INFO:tensorflow:global_step/sec: 438.387\n",
      "INFO:tensorflow:loss = 145.38298, step = 4325 (0.228 sec)\n",
      "INFO:tensorflow:global_step/sec: 443.271\n",
      "INFO:tensorflow:loss = 239.20607, step = 4425 (0.226 sec)\n",
      "INFO:tensorflow:global_step/sec: 446.805\n",
      "INFO:tensorflow:loss = 117.67038, step = 4525 (0.224 sec)\n",
      "INFO:tensorflow:global_step/sec: 447.973\n",
      "INFO:tensorflow:loss = 243.3593, step = 4625 (0.223 sec)\n",
      "INFO:tensorflow:global_step/sec: 437.29\n",
      "INFO:tensorflow:loss = 413.38943, step = 4725 (0.228 sec)\n",
      "INFO:tensorflow:global_step/sec: 443.332\n",
      "INFO:tensorflow:loss = 93.9595, step = 4825 (0.226 sec)\n",
      "INFO:tensorflow:global_step/sec: 441.566\n",
      "INFO:tensorflow:loss = 345.0469, step = 4925 (0.227 sec)\n",
      "INFO:tensorflow:global_step/sec: 450.104\n",
      "INFO:tensorflow:loss = 258.14, step = 5025 (0.222 sec)\n",
      "INFO:tensorflow:global_step/sec: 445.258\n",
      "INFO:tensorflow:loss = 158.22194, step = 5125 (0.225 sec)\n",
      "INFO:tensorflow:global_step/sec: 443.756\n",
      "INFO:tensorflow:loss = 1626.9651, step = 5225 (0.225 sec)\n",
      "INFO:tensorflow:global_step/sec: 444.938\n",
      "INFO:tensorflow:loss = 749.2982, step = 5325 (0.225 sec)\n",
      "INFO:tensorflow:global_step/sec: 442.431\n",
      "INFO:tensorflow:loss = 1589.6669, step = 5425 (0.226 sec)\n",
      "INFO:tensorflow:global_step/sec: 444.592\n",
      "INFO:tensorflow:loss = 654.5608, step = 5525 (0.225 sec)\n",
      "INFO:tensorflow:global_step/sec: 443.963\n",
      "INFO:tensorflow:loss = 309.46634, step = 5625 (0.225 sec)\n",
      "INFO:tensorflow:global_step/sec: 442.987\n",
      "INFO:tensorflow:loss = 157.05879, step = 5725 (0.226 sec)\n",
      "INFO:tensorflow:global_step/sec: 443.118\n",
      "INFO:tensorflow:loss = 168.95547, step = 5825 (0.226 sec)\n",
      "INFO:tensorflow:global_step/sec: 448.784\n",
      "INFO:tensorflow:loss = 175.91675, step = 5925 (0.223 sec)\n",
      "INFO:tensorflow:global_step/sec: 447.575\n",
      "INFO:tensorflow:loss = 59.71765, step = 6025 (0.223 sec)\n",
      "INFO:tensorflow:global_step/sec: 441.221\n",
      "INFO:tensorflow:loss = 81.75777, step = 6125 (0.227 sec)\n",
      "INFO:tensorflow:global_step/sec: 439.643\n",
      "INFO:tensorflow:loss = 1558.7397, step = 6225 (0.227 sec)\n",
      "INFO:tensorflow:global_step/sec: 443.832\n",
      "INFO:tensorflow:loss = 387.4466, step = 6325 (0.225 sec)\n",
      "INFO:tensorflow:global_step/sec: 443.886\n",
      "INFO:tensorflow:loss = 1691.2556, step = 6425 (0.225 sec)\n",
      "INFO:tensorflow:global_step/sec: 441.416\n",
      "INFO:tensorflow:loss = 487.05255, step = 6525 (0.227 sec)\n",
      "INFO:tensorflow:global_step/sec: 445.576\n",
      "INFO:tensorflow:loss = 264.3625, step = 6625 (0.225 sec)\n",
      "INFO:tensorflow:Saving checkpoints for 6650 into /tmp/tmpnja4ig82/model.ckpt.\n",
      "INFO:tensorflow:Finalize system.\n",
      "INFO:tensorflow:Loss for final step: 427.84875.\n"
     ]
    },
    {
     "data": {
      "text/plain": [
       "<tensorflow.python.estimator.canned.linear.LinearRegressor at 0x7f1b38315cc0>"
      ]
     },
     "execution_count": 68,
     "metadata": {},
     "output_type": "execute_result"
    }
   ],
   "source": [
    "def training_input_fn():\n",
    "    return tf.data.Dataset.from_tensor_slices(\n",
    "        ({'inputs': training_df[training_features].as_matrix()}, training_df[label].as_matrix())).repeat(50).batch(1)\n",
    "\n",
    "tf_regressor.train(input_fn=training_input_fn)\n"
   ]
  },
  {
   "cell_type": "code",
   "execution_count": 63,
   "metadata": {},
   "outputs": [],
   "source": [
    "rm -rf /tmp/tmpnja4ig82/"
   ]
  },
  {
   "cell_type": "code",
   "execution_count": 65,
   "metadata": {},
   "outputs": [
    {
     "name": "stdout",
     "output_type": "stream",
     "text": [
      "INFO:tensorflow:Calling model_fn.\n",
      "INFO:tensorflow:Done calling model_fn.\n",
      "INFO:tensorflow:Graph was finalized.\n",
      "INFO:tensorflow:Restoring parameters from /tmp/tmpnja4ig82/model.ckpt-3325\n",
      "INFO:tensorflow:Running local_init_op.\n",
      "INFO:tensorflow:Done running local_init_op.\n"
     ]
    },
    {
     "name": "stderr",
     "output_type": "stream",
     "text": [
      "/home/ec2-user/anaconda3/envs/tensorflow_p36/lib/python3.6/site-packages/ipykernel/__main__.py:6: SettingWithCopyWarning: \n",
      "A value is trying to be set on a copy of a slice from a DataFrame.\n",
      "Try using .loc[row_indexer,col_indexer] = value instead\n",
      "\n",
      "See the caveats in the documentation: http://pandas.pydata.org/pandas-docs/stable/indexing.html#indexing-view-versus-copy\n"
     ]
    }
   ],
   "source": [
    "def test_input_fn():\n",
    "    return tf.data.Dataset.from_tensor_slices(\n",
    "        ({'inputs': test_df[training_features].as_matrix()}, test_df[label].as_matrix())).repeat(1).batch(1)\n",
    "\n",
    "predictions = tf_regressor.predict(input_fn=test_input_fn)\n",
    "predicted_values = [prediction['predictions'][0] for prediction in predictions]\n",
    "test_df['prediction'] = predicted_values\n"
   ]
  },
  {
   "cell_type": "code",
   "execution_count": 66,
   "metadata": {},
   "outputs": [],
   "source": [
    "%matplotlib inline"
   ]
  },
  {
   "cell_type": "code",
   "execution_count": 67,
   "metadata": {},
   "outputs": [
    {
     "data": {
      "text/plain": [
       "<matplotlib.axes._subplots.AxesSubplot at 0x7f1b14261cf8>"
      ]
     },
     "execution_count": 67,
     "metadata": {},
     "output_type": "execute_result"
    },
    {
     "data": {
      "image/png": "[encoded data removed]",
      "text/plain": [
       "<Figure size 432x288 with 1 Axes>"
      ]
     },
     "metadata": {},
     "output_type": "display_data"
    }
   ],
   "source": [
    "\n",
    "test_df.plot(kind='scatter', x=label, y='prediction')\n"
   ]
  },
  {
   "cell_type": "code",
   "execution_count": null,
   "metadata": {},
   "outputs": [],
   "source": []
  }
 ],
 "metadata": {
  "kernelspec": {
   "display_name": "conda_tensorflow_p36",
   "language": "python",
   "name": "conda_tensorflow_p36"
  },
  "language_info": {
   "codemirror_mode": {
    "name": "ipython",
    "version": 3
   },
   "file_extension": ".py",
   "mimetype": "text/x-python",
   "name": "python",
   "nbconvert_exporter": "python",
   "pygments_lexer": "ipython3",
   "version": "3.6.5"
  }
 },
 "nbformat": 4,
 "nbformat_minor": 2
}
