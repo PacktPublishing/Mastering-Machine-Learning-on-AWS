{
 "cells": [
  {
   "cell_type": "code",
   "execution_count": 12,
   "metadata": {
    "collapsed": true
   },
   "outputs": [],
   "source": [
    "import boto3\n"
   ]
  },
  {
   "cell_type": "code",
   "execution_count": 13,
   "metadata": {},
   "outputs": [
    {
     "name": "stdout",
     "output_type": "stream",
     "text": [
      "{'DocumentClassifierArn': 'arn:aws:comprehend:us-east-2:017198808824:document-classifier/movie-sentiment-test', 'ResponseMetadata': {'RequestId': '9bfb19c2-6249-11e9-9a59-e13037f7837e', 'HTTPStatusCode': 200, 'HTTPHeaders': {'x-amzn-requestid': '9bfb19c2-6249-11e9-9a59-e13037f7837e', 'content-type': 'application/x-amz-json-1.1', 'content-length': '110', 'date': 'Fri, 19 Apr 2019 02:19:50 GMT'}, 'RetryAttempts': 0}}\n"
     ]
    }
   ],
   "source": [
    "\n",
    "client = boto3.client('comprehend')\n",
    "response = client.create_document_classifier(\n",
    "    DocumentClassifierName='20NG-test',\n",
    "    DataAccessRoleArn='arn:aws:iam::017198808824:role/service-role/AmazonComprehendServiceRoleS3FullAccess-training',\n",
    "     InputDataConfig={\n",
    "         'S3Uri': 's3://masteringmlsagemaker/comprehend/train.csv'\n",
    "     },\n",
    "     OutputDataConfig={\n",
    "         'S3Uri': 's3://masteringmlsagemaker/comprehend/'\n",
    "     },\n",
    "    LanguageCode='en')\n",
    "\n",
    "print(response)"
   ]
  },
  {
   "cell_type": "code",
   "execution_count": 14,
   "metadata": {},
   "outputs": [
    {
     "name": "stdout",
     "output_type": "stream",
     "text": [
      "{'JobId': '8e69d62dd3493f15d679fb1608a9371b', 'JobStatus': 'SUBMITTED', 'ResponseMetadata': {'RequestId': 'a5cd2e69-624a-11e9-81cf-fbe9d51d583d', 'HTTPStatusCode': 200, 'HTTPHeaders': {'x-amzn-requestid': 'a5cd2e69-624a-11e9-81cf-fbe9d51d583d', 'content-type': 'application/x-amz-json-1.1', 'content-length': '68', 'date': 'Fri, 19 Apr 2019 02:27:16 GMT'}, 'RetryAttempts': 0}}\n"
     ]
    }
   ],
   "source": [
    "response = client.start_document_classification_job(\n",
    "    JobName='Testing Model',\n",
    "    DocumentClassifierArn='arn:aws:comprehend:us-east-1:017198808824:document-classifier/movie-sentiment-test',\n",
    "    InputDataConfig={\n",
    "        'S3Uri': 's3://masteringmlsagemaker/comprehend/test.csv',\n",
    "        'InputFormat': 'ONE_DOC_PER_LINE'\n",
    "    },\n",
    "    OutputDataConfig={\n",
    "        'S3Uri': 's3://masteringmlsagemaker/comprehend/',\n",
    "    },\n",
    "    DataAccessRoleArn='arn:aws:iam::017198808824:role/service-role/AmazonComprehendServiceRoleS3FullAccess-training')\n",
    "\n",
    "print(response)"
   ]
  },
  {
   "cell_type": "code",
   "execution_count": null,
   "metadata": {
    "collapsed": true
   },
   "outputs": [],
   "source": []
  }
 ],
 "metadata": {
  "kernelspec": {
   "display_name": "Python 3",
   "language": "python",
   "name": "python3"
  },
  "language_info": {
   "codemirror_mode": {
    "name": "ipython",
    "version": 3
   },
   "file_extension": ".py",
   "mimetype": "text/x-python",
   "name": "python",
   "nbconvert_exporter": "python",
   "pygments_lexer": "ipython3",
   "version": "3.6.8"
  }
 },
 "nbformat": 4,
 "nbformat_minor": 2
}
