{
 "cells": [
  {
   "cell_type": "code",
   "execution_count": 10,
   "metadata": {},
   "outputs": [],
   "source": [
    "import boto3\n",
    "import json\n"
   ]
  },
  {
   "cell_type": "code",
   "execution_count": 11,
   "metadata": {},
   "outputs": [
    {
     "name": "stdout",
     "output_type": "stream",
     "text": [
      "{\n",
      "    \"Entities\": [\n",
      "        {\n",
      "            \"BeginOffset\": 0,\n",
      "            \"EndOffset\": 8,\n",
      "            \"Score\": 0.9999027252197266,\n",
      "            \"Text\": \"Tim Cook\",\n",
      "            \"Type\": \"PERSON\"\n",
      "        },\n",
      "        {\n",
      "            \"BeginOffset\": 21,\n",
      "            \"EndOffset\": 29,\n",
      "            \"Score\": 0.992688775062561,\n",
      "            \"Text\": \"New York\",\n",
      "            \"Type\": \"LOCATION\"\n",
      "        },\n",
      "        {\n",
      "            \"BeginOffset\": 37,\n",
      "            \"EndOffset\": 42,\n",
      "            \"Score\": 0.9634410738945007,\n",
      "            \"Text\": \"Apple\",\n",
      "            \"Type\": \"ORGANIZATION\"\n",
      "        }\n",
      "    ],\n",
      "    \"ResponseMetadata\": {\n",
      "        \"HTTPHeaders\": {\n",
      "            \"content-length\": \"301\",\n",
      "            \"content-type\": \"application/x-amz-json-1.1\",\n",
      "            \"date\": \"Fri, 19 Apr 2019 01:45:33 GMT\",\n",
      "            \"x-amzn-requestid\": \"d2f106b0-6244-11e9-a522-5951c35fa6f5\"\n",
      "        },\n",
      "        \"HTTPStatusCode\": 200,\n",
      "        \"RequestId\": \"d2f106b0-6244-11e9-a522-5951c35fa6f5\",\n",
      "        \"RetryAttempts\": 0\n",
      "    }\n",
      "}\n"
     ]
    }
   ],
   "source": [
    "comprehend = boto3.client(service_name='comprehend') \n",
    "\n",
    "text = \"Tim Cook traveled to New York for an Apple store opening\"\n",
    "\n",
    "print(json.dumps(comprehend.detect_entities(Text=text, LanguageCode='en'), sort_keys=True, indent=4)) "
   ]
  },
  {
   "cell_type": "code",
   "execution_count": null,
   "metadata": {},
   "outputs": [],
   "source": []
  }
 ],
 "metadata": {
  "kernelspec": {
   "display_name": "Python 3",
   "language": "python",
   "name": "python3"
  },
  "language_info": {
   "codemirror_mode": {
    "name": "ipython",
    "version": 3
   },
   "file_extension": ".py",
   "mimetype": "text/x-python",
   "name": "python",
   "nbconvert_exporter": "python",
   "pygments_lexer": "ipython3",
   "version": "3.7.3"
  }
 },
 "nbformat": 4,
 "nbformat_minor": 2
}
